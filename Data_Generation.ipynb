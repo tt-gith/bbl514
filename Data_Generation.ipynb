{
 "cells": [
  {
   "cell_type": "code",
   "execution_count": 13,
   "id": "initial_id",
   "metadata": {
    "collapsed": true,
    "ExecuteTime": {
     "end_time": "2025-06-20T10:46:50.801216700Z",
     "start_time": "2025-06-20T10:46:50.773885100Z"
    }
   },
   "outputs": [],
   "source": [
    "from sklearn.datasets import make_blobs, make_classification\n",
    "import pandas as pd"
   ]
  },
  {
   "cell_type": "markdown",
   "source": [
    "D1 - Linearly Separable Dataset Generation"
   ],
   "metadata": {
    "collapsed": false
   },
   "id": "62bfed721f7ce6b3"
  },
  {
   "cell_type": "code",
   "execution_count": 14,
   "outputs": [],
   "source": [
    "X1, y1 = make_blobs(n_samples=200, centers=2, cluster_std=1.0, random_state=42)  #200 samples in total"
   ],
   "metadata": {
    "collapsed": false,
    "ExecuteTime": {
     "end_time": "2025-06-20T10:46:50.805224200Z",
     "start_time": "2025-06-20T10:46:50.781976200Z"
    }
   },
   "id": "20903407544c3bf9"
  },
  {
   "cell_type": "markdown",
   "source": [
    "D2 - Linearly Non-Separable Dataset Generation"
   ],
   "metadata": {
    "collapsed": false
   },
   "id": "c14b61e90e26423d"
  },
  {
   "cell_type": "code",
   "execution_count": 15,
   "outputs": [],
   "source": [
    "X2, y2 = make_classification(n_samples=200, n_features=2, n_informative=2,\n",
    "                             n_redundant=0, n_clusters_per_class=1,\n",
    "                             class_sep=0.5, random_state=42)"
   ],
   "metadata": {
    "collapsed": false,
    "ExecuteTime": {
     "end_time": "2025-06-20T10:46:50.806223900Z",
     "start_time": "2025-06-20T10:46:50.784494200Z"
    }
   },
   "id": "68d2979e1599369d"
  },
  {
   "cell_type": "code",
   "execution_count": 16,
   "outputs": [],
   "source": [
    "# D1 - linearly separable\n",
    "df_d1 = pd.DataFrame(X1, columns=['Feature1', 'Feature2'])\n",
    "df_d1['Label'] = y1\n",
    "df_d1.to_csv(\"D1_linearly_separable.csv\", index=False)\n",
    "\n",
    "# D2 - linearly non-separable\n",
    "df_d2 = pd.DataFrame(X2, columns=['Feature1', 'Feature2'])\n",
    "df_d2['Label'] = y2\n",
    "df_d2.to_csv(\"D2_non_separable.csv\", index=False)"
   ],
   "metadata": {
    "collapsed": false,
    "ExecuteTime": {
     "end_time": "2025-06-20T10:46:50.817223800Z",
     "start_time": "2025-06-20T10:46:50.791256300Z"
    }
   },
   "id": "f7d55f63eb168737"
  }
 ],
 "metadata": {
  "kernelspec": {
   "display_name": "Python 3",
   "language": "python",
   "name": "python3"
  },
  "language_info": {
   "codemirror_mode": {
    "name": "ipython",
    "version": 2
   },
   "file_extension": ".py",
   "mimetype": "text/x-python",
   "name": "python",
   "nbconvert_exporter": "python",
   "pygments_lexer": "ipython2",
   "version": "2.7.6"
  }
 },
 "nbformat": 4,
 "nbformat_minor": 5
}
